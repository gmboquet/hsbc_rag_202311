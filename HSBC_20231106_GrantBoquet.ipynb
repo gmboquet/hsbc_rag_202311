{
 "cells": [
  {
   "cell_type": "markdown",
   "id": "6f433f0a-97f7-4e57-a832-bf55cbef37ab",
   "metadata": {},
   "source": [
    "## LLM evaluation of RAG on HotpotQA using different segmentation and retrieval configurations\n",
    "\n",
    "Grant Boquet (grant.boquet@gmail.com)\n",
    "\n",
    "November 6, 2023"
   ]
  },
  {
   "cell_type": "markdown",
   "id": "4495ff98-1aa1-4a70-bac0-e1d34d197d50",
   "metadata": {},
   "source": [
    "Create the evaluation dataset (uses HotpotQA from HuggingFace)"
   ]
  },
  {
   "cell_type": "code",
   "execution_count": 1,
   "id": "d2258bec-683b-44f6-9094-57c4f3607de6",
   "metadata": {},
   "outputs": [
    {
     "name": "stdout",
     "output_type": "stream",
     "text": [
      "Loading existing dataset.\n"
     ]
    }
   ],
   "source": [
    "import json\n",
    "import os\n",
    "\n",
    "openai_api_key=\"\"\n",
    "\n",
    "os.environ['OPENAI_API_KEY'] = openai_api_key\n",
    "\n",
    "if os.path.exists(\"./hsbc_interview.json\"):\n",
    "    print(\"Loading existing dataset.\")\n",
    "    with open(\"./hsbc_interview.json\", \"rt\") as fin:\n",
    "        data = json.load(fin)\n",
    "else:        \n",
    "\n",
    "    from datasets import load_dataset\n",
    "    \n",
    "    dataset = load_dataset(\"hotpot_qa\", \"distractor\")\n",
    "    \n",
    "    subset_data = []\n",
    "    subset_text = []\n",
    "    for idx, entry in enumerate(dataset[\"train\"]):\n",
    "        if len(subset_data) > 10:\n",
    "            break\n",
    "        subset_text.append(''.join([''.join(u) for u in entry[\"context\"][\"sentences\"]]))\n",
    "        subset_data.append({\"query\": entry[\"question\"], \"question\": entry[\"question\"], \"answer\": entry[\"answer\"]})\n",
    "\n",
    "    data = {\"data\": subset_data, \"context\": subset_text}\n",
    "    \n",
    "    with open(\"./hsbc_interview.json\", \"wt\") as fout:\n",
    "        json.dump(data, fout)"
   ]
  },
  {
   "cell_type": "code",
   "execution_count": 2,
   "id": "afba881d-3a62-4583-a45b-20100f561406",
   "metadata": {},
   "outputs": [],
   "source": [
    "from operator import itemgetter\n",
    "from langchain.chains import RetrievalQA\n",
    "from langchain.prompts import ChatPromptTemplate\n",
    "from langchain.chat_models import ChatOpenAI\n",
    "from langchain.llms import OpenAI\n",
    "from langchain.embeddings import OpenAIEmbeddings\n",
    "from langchain.schema.output_parser import StrOutputParser\n",
    "from langchain.schema.runnable import RunnablePassthrough, RunnableLambda\n",
    "from langchain.vectorstores import FAISS\n",
    "from langchain.embeddings import OpenAIEmbeddings\n",
    "from langchain.text_splitter import CharacterTextSplitter, TokenTextSplitter, RecursiveCharacterTextSplitter, SpacyTextSplitter\n",
    "from langchain.vectorstores import Chroma\n",
    "from langchain.prompts import PromptTemplate\n",
    "from langchain.evaluation.qa import QAEvalChain\n",
    "from itertools import product"
   ]
  },
  {
   "cell_type": "markdown",
   "id": "abe578ee-5d37-4a5e-b0fc-07670e051835",
   "metadata": {},
   "source": [
    "Specify the testing conditions"
   ]
  },
  {
   "cell_type": "code",
   "execution_count": 3,
   "id": "4bd5a3a2-1f71-47c8-abb6-f76e4dfb3fd4",
   "metadata": {},
   "outputs": [],
   "source": [
    "text_splitters = []\n",
    "text_splitters.append(dict(name=\"CharacterTextSplitter/100/0\", model=CharacterTextSplitter(chunk_size=100, chunk_overlap=0, separator=\"\")))\n",
    "text_splitters.append(dict(name=\"TokenTextSplitter/100/0\", model=TokenTextSplitter(chunk_size=100, chunk_overlap=0)))\n",
    "text_splitters.append(dict(name=\"SpacyTextSplitter\", model=SpacyTextSplitter(pipeline='sentencizer')))\n",
    "\n",
    "retriever_settings = []\n",
    "retriever_settings.append(dict(search_type=\"mmr\", search_kwargs={\"k\": 4}))\n",
    "retriever_settings.append(dict(search_type=\"similarity_score_threshold\", search_kwargs={\"score_threshold\": .7, \"k\": 4}))\n",
    "retriever_settings.append(dict(search_type=\"similarity\", search_kwargs={\"k\": 4}))"
   ]
  },
  {
   "cell_type": "markdown",
   "id": "3f8f73d4-b377-40a7-92aa-1c3fd76b000d",
   "metadata": {},
   "source": [
    "Create the RAG chain for a given text splitter and retriever configuration."
   ]
  },
  {
   "cell_type": "code",
   "execution_count": 4,
   "id": "81211b6d-90ce-46ff-9e44-10f6d076ec12",
   "metadata": {},
   "outputs": [],
   "source": [
    "def get_rag_chain(contexts, text_splitter, retriever_config):\n",
    "\n",
    "    texts = [chunk for text in contexts for line in text_splitter.split_text(text) for chunk in line.split(\"\\n\\n\")]\n",
    "    db = Chroma.from_texts(texts, OpenAIEmbeddings())\n",
    "    retriever = db.as_retriever(**retriever_config)\n",
    "    \n",
    "    prompt_template = \"\"\"Answer the question based only on the following context:\n",
    "    {context}\n",
    "    \n",
    "    Question: {question}\n",
    "    \"\"\"\n",
    "    \n",
    "    PROMPT = PromptTemplate(\n",
    "        template=prompt_template, input_variables=[\"context\", \"question\"]\n",
    "    )\n",
    "    \n",
    "    qa = RetrievalQA.from_chain_type(llm=OpenAI(), chain_type=\"stuff\", retriever=retriever, chain_type_kwargs={\"prompt\": PROMPT})\n",
    "\n",
    "    return qa"
   ]
  },
  {
   "cell_type": "markdown",
   "id": "a945045b-febd-424f-ac8f-216acbc47091",
   "metadata": {},
   "source": [
    "We are also going to use the LLM to evaluate the QA performance."
   ]
  },
  {
   "cell_type": "code",
   "execution_count": 5,
   "id": "8812b6ec-ed38-4c3b-9323-bb0c1eda5f69",
   "metadata": {},
   "outputs": [],
   "source": [
    "prompt_template = \"\"\"You are a teacher grading a quiz. \n",
    "You are given a question, the student's answer, and the true answer, and are asked to score the student answer as either CORRECT or INCORRECT.\n",
    "\n",
    "Example Format:\n",
    "QUESTION: question here\n",
    "STUDENT ANSWER: student's answer here\n",
    "TRUE ANSWER: true answer here\n",
    "GRADE: CORRECT or INCORRECT here\n",
    "\n",
    "Grade the student answers based ONLY on their factual accuracy. Ignore differences in punctuation and phrasing between the student answer and true answer. It is OK if the student answer contains more information than the true answer, as long as it does not contain any conflicting statements. Begin! \n",
    "\n",
    "QUESTION: {question}\n",
    "STUDENT ANSWER: {result}\n",
    "TRUE ANSWER: {answer}\n",
    "GRADE:\"\"\"\n",
    "\n",
    "GRADE_ANSWER_PROMPT_FAST = PromptTemplate(input_variables=[\"question\", \"result\", \"answer\"], template=prompt_template)\n",
    "\n",
    "eval_chain = (GRADE_ANSWER_PROMPT_FAST | ChatOpenAI(model_name=\"gpt-3.5-turbo\", temperature=0) | StrOutputParser())\n"
   ]
  },
  {
   "cell_type": "markdown",
   "id": "b153c6cf-6747-4331-9399-26032edff345",
   "metadata": {},
   "source": [
    "Evaluate the different configurations and use the grading prompt to count how many are accurate"
   ]
  },
  {
   "cell_type": "code",
   "execution_count": 7,
   "id": "6775d119-0ad9-4b9a-a058-d2c63ad696bd",
   "metadata": {},
   "outputs": [
    {
     "name": "stdout",
     "output_type": "stream",
     "text": [
      "{'query': \"Which magazine was started first Arthur's Magazine or First for Women?\", 'question': \"Which magazine was started first Arthur's Magazine or First for Women?\", 'answer': \"Arthur's Magazine\", 'result': \"\\nArthur's Magazine was not mentioned in the provided context, so it is not possible to answer the question based only on the context given.\", 'eval': 'INCORRECT'}\n",
      "{'query': 'The Oberoi family is part of a hotel company that has a head office in what city?', 'question': 'The Oberoi family is part of a hotel company that has a head office in what city?', 'answer': 'Delhi', 'result': '\\nDelhi', 'eval': 'CORRECT'}\n",
      "{'query': 'Musician and satirist Allie Goertz wrote a song about the \"The Simpsons\" character Milhouse, who Matt Groening named after who?', 'question': 'Musician and satirist Allie Goertz wrote a song about the \"The Simpsons\" character Milhouse, who Matt Groening named after who?', 'answer': 'President Richard Nixon', 'result': '\\nMatt Groening named Milhouse after his younger sister, Lisa Groening.', 'eval': 'INCORRECT'}\n",
      "{'query': \" What nationality was James Henry Miller's wife?\", 'question': \" What nationality was James Henry Miller's wife?\", 'answer': 'American', 'result': '\\nJune Miller was American.', 'eval': 'CORRECT'}\n",
      "{'query': 'Cadmium Chloride is slightly soluble in this chemical, it is also called what?', 'question': 'Cadmium Chloride is slightly soluble in this chemical, it is also called what?', 'answer': 'alcohol', 'result': '\\nAuric Acid, HAuCl.', 'eval': 'INCORRECT'}\n",
      "{'query': 'Which tennis player won more Grand Slam titles, Henri Leconte or Jonathan Stark?', 'question': 'Which tennis player won more Grand Slam titles, Henri Leconte or Jonathan Stark?', 'answer': 'Jonathan Stark', 'result': '\\nHenri Leconte won more Grand Slam titles than Jonathan Stark.', 'eval': 'INCORRECT'}\n",
      "{'query': \"Which genus of moth in the world's seventh-largest country contains only one species?\", 'question': \"Which genus of moth in the world's seventh-largest country contains only one species?\", 'answer': 'Crambidae', 'result': '\\nThe genus Parectropis in Japan contains only one species, Yoshiyasua yasudai.', 'eval': 'INCORRECT'}\n",
      "{'query': 'Who was once considered the best kick boxer in the world, however he has been involved in a number of controversies relating to his \"unsportsmanlike conducts\" in the sport and crimes of violence outside of the ring.', 'question': 'Who was once considered the best kick boxer in the world, however he has been involved in a number of controversies relating to his \"unsportsmanlike conducts\" in the sport and crimes of violence outside of the ring.', 'answer': 'Badr Hari', 'result': '\\nHenri Lecon.', 'eval': 'INCORRECT'}\n",
      "{'query': 'The Dutch-Belgian television series that \"House of Anubis\" was based on first aired in what year?', 'question': 'The Dutch-Belgian television series that \"House of Anubis\" was based on first aired in what year?', 'answer': '2006', 'result': '\\nThe Dutch-Belgian television series that \"House of Anubis\" was based on first aired in 2006.', 'eval': 'CORRECT'}\n",
      "{'query': 'What is the length of the track where the 2013 Liqui Moly Bathurst 12 Hour was staged?', 'question': 'What is the length of the track where the 2013 Liqui Moly Bathurst 12 Hour was staged?', 'answer': '6.213 km long', 'result': '\\nThe length of the track where the 2013 Liqui Moly Bathurst 12 Hour was staged is not specified in the context.', 'eval': 'CORRECT'}\n",
      "{'query': 'Fast Cars, Danger, Fire and Knives includes guest appearances from which hip hop record executive?', 'question': 'Fast Cars, Danger, Fire and Knives includes guest appearances from which hip hop record executive?', 'answer': 'Jaime Meline', 'result': '\\nThe guest appearances on Fast Cars, Danger, Fire and Knives include Jhené Aiko, Schoolboy Q, Kendrick Lamar, Punch, Alori Joh, JaVonté, MURS, BJ The Chicago Kid, and Rob Marcello. None of these artists are record executives.', 'eval': 'INCORRECT'}\n",
      "{'query': \"Which magazine was started first Arthur's Magazine or First for Women?\", 'question': \"Which magazine was started first Arthur's Magazine or First for Women?\", 'answer': \"Arthur's Magazine\", 'result': \"\\nArthur's Magazine\", 'eval': 'CORRECT'}\n",
      "{'query': 'The Oberoi family is part of a hotel company that has a head office in what city?', 'question': 'The Oberoi family is part of a hotel company that has a head office in what city?', 'answer': 'Delhi', 'result': '\\nAnswer: Delhi', 'eval': 'CORRECT'}\n",
      "{'query': 'Musician and satirist Allie Goertz wrote a song about the \"The Simpsons\" character Milhouse, who Matt Groening named after who?', 'question': 'Musician and satirist Allie Goertz wrote a song about the \"The Simpsons\" character Milhouse, who Matt Groening named after who?', 'answer': 'President Richard Nixon', 'result': '\\nMatt Groening named the character Milhouse after his childhood friend, Milhouse Van Houten.', 'eval': 'INCORRECT'}\n",
      "{'query': \" What nationality was James Henry Miller's wife?\", 'question': \" What nationality was James Henry Miller's wife?\", 'answer': 'American', 'result': '\\nIt is not possible to answer this question based on the provided context.', 'eval': 'CORRECT'}\n",
      "{'query': 'Cadmium Chloride is slightly soluble in this chemical, it is also called what?', 'question': 'Cadmium Chloride is slightly soluble in this chemical, it is also called what?', 'answer': 'alcohol', 'result': '\\nCadmium Chloride is slightly soluble in water and is also known as cadmium dichloride.', 'eval': 'INCORRECT'}\n",
      "{'query': 'Which tennis player won more Grand Slam titles, Henri Leconte or Jonathan Stark?', 'question': 'Which tennis player won more Grand Slam titles, Henri Leconte or Jonathan Stark?', 'answer': 'Jonathan Stark', 'result': '\\nHenri Leconte won more Grand Slam titles than Jonathan Stark.', 'eval': 'INCORRECT'}\n",
      "{'query': \"Which genus of moth in the world's seventh-largest country contains only one species?\", 'question': \"Which genus of moth in the world's seventh-largest country contains only one species?\", 'answer': 'Crambidae', 'result': '\\nEumacaria', 'eval': 'INCORRECT'}\n",
      "{'query': 'Who was once considered the best kick boxer in the world, however he has been involved in a number of controversies relating to his \"unsportsmanlike conducts\" in the sport and crimes of violence outside of the ring.', 'question': 'Who was once considered the best kick boxer in the world, however he has been involved in a number of controversies relating to his \"unsportsmanlike conducts\" in the sport and crimes of violence outside of the ring.', 'answer': 'Badr Hari', 'result': '\\nThe person in question was once', 'eval': 'INCORRECT'}\n",
      "{'query': 'The Dutch-Belgian television series that \"House of Anubis\" was based on first aired in what year?', 'question': 'The Dutch-Belgian television series that \"House of Anubis\" was based on first aired in what year?', 'answer': '2006', 'result': '\\nThe Dutch-Belgian television series that \"House of Anubis\" was based on first aired in 2006.', 'eval': 'CORRECT'}\n",
      "{'query': 'What is the length of the track where the 2013 Liqui Moly Bathurst 12 Hour was staged?', 'question': 'What is the length of the track where the 2013 Liqui Moly Bathurst 12 Hour was staged?', 'answer': '6.213 km long', 'result': '\\nThe track where the 2013 Liqui Moly Bathurst 12 Hour was staged is the Mount Panorama Circuit at Bathurst, New South Wales, Australia, which is 6.213 km (3.863 mi) in length.', 'eval': 'CORRECT'}\n",
      "{'query': 'Fast Cars, Danger, Fire and Knives includes guest appearances from which hip hop record executive?', 'question': 'Fast Cars, Danger, Fire and Knives includes guest appearances from which hip hop record executive?', 'answer': 'Jaime Meline', 'result': '\\nThe answer would depend on which record executive contributed to Fast Cars, Danger, Fire and Knives.', 'eval': 'CORRECT'}\n",
      "{'query': \"Which magazine was started first Arthur's Magazine or First for Women?\", 'question': \"Which magazine was started first Arthur's Magazine or First for Women?\", 'answer': \"Arthur's Magazine\", 'result': \"\\nArthur's Magazine was not mentioned in the given context, so it is not possible to answer the question.\", 'eval': 'CORRECT'}\n",
      "{'query': 'The Oberoi family is part of a hotel company that has a head office in what city?', 'question': 'The Oberoi family is part of a hotel company that has a head office in what city?', 'answer': 'Delhi', 'result': '\\nAnswer: Delhi', 'eval': 'CORRECT'}\n",
      "{'query': 'Musician and satirist Allie Goertz wrote a song about the \"The Simpsons\" character Milhouse, who Matt Groening named after who?', 'question': 'Musician and satirist Allie Goertz wrote a song about the \"The Simpsons\" character Milhouse, who Matt Groening named after who?', 'answer': 'President Richard Nixon', 'result': '\\nThe answer is Milhouse Van Houten, a fict', 'eval': 'INCORRECT'}\n",
      "{'query': \" What nationality was James Henry Miller's wife?\", 'question': \" What nationality was James Henry Miller's wife?\", 'answer': 'American', 'result': '\\nIt is not possible to answer this question based on the given context.', 'eval': 'CORRECT'}\n",
      "{'query': 'Cadmium Chloride is slightly soluble in this chemical, it is also called what?', 'question': 'Cadmium Chloride is slightly soluble in this chemical, it is also called what?', 'answer': 'alcohol', 'result': '\\nCadmium Chloride is slightly soluble in water, it is also called a hydrophilic compound.', 'eval': 'INCORRECT'}\n",
      "{'query': 'Which tennis player won more Grand Slam titles, Henri Leconte or Jonathan Stark?', 'question': 'Which tennis player won more Grand Slam titles, Henri Leconte or Jonathan Stark?', 'answer': 'Jonathan Stark', 'result': \"\\nHenri Leconte did not win any of the titles listed in the context, while Jonathan Stark won two titles (the 1994 French Open Men's Doubles and the 1995 Wimbledon Championships Mixed Doubles). Therefore, Jonathan Stark won more Grand Slam titles.\", 'eval': 'CORRECT'}\n",
      "{'query': \"Which genus of moth in the world's seventh-largest country contains only one species?\", 'question': \"Which genus of moth in the world's seventh-largest country contains only one species?\", 'answer': 'Crambidae', 'result': '\\nAnswer: Eumacaria', 'eval': 'INCORRECT'}\n",
      "{'query': 'Who was once considered the best kick boxer in the world, however he has been involved in a number of controversies relating to his \"unsportsmanlike conducts\" in the sport and crimes of violence outside of the ring.', 'question': 'Who was once considered the best kick boxer in the world, however he has been involved in a number of controversies relating to his \"unsportsmanlike conducts\" in the sport and crimes of violence outside of the ring.', 'answer': 'Badr Hari', 'result': '\\nThe answer to this question is unknown as there is not enough information provided in the context.', 'eval': 'INCORRECT'}\n",
      "{'query': 'The Dutch-Belgian television series that \"House of Anubis\" was based on first aired in what year?', 'question': 'The Dutch-Belgian television series that \"House of Anubis\" was based on first aired in what year?', 'answer': '2006', 'result': '\\nThe Dutch-Belgian television series that \"House of Anubis\" was based on first aired in 2011.', 'eval': 'INCORRECT'}\n",
      "{'query': 'What is the length of the track where the 2013 Liqui Moly Bathurst 12 Hour was staged?', 'question': 'What is the length of the track where the 2013 Liqui Moly Bathurst 12 Hour was staged?', 'answer': '6.213 km long', 'result': '\\nThe length of the track where the 2013 Liqui Moly Bathurst 12 Hour was staged is not specified in the context given.', 'eval': 'CORRECT'}\n",
      "{'query': 'Fast Cars, Danger, Fire and Knives includes guest appearances from which hip hop record executive?', 'question': 'Fast Cars, Danger, Fire and Knives includes guest appearances from which hip hop record executive?', 'answer': 'Jaime Meline', 'result': '\\nThe answer to this question is not provided in the context.', 'eval': 'INCORRECT'}\n",
      "{'query': \"Which magazine was started first Arthur's Magazine or First for Women?\", 'question': \"Which magazine was started first Arthur's Magazine or First for Women?\", 'answer': \"Arthur's Magazine\", 'result': \"\\nArthur's Magazine was started first.\", 'eval': 'CORRECT'}\n",
      "{'query': 'The Oberoi family is part of a hotel company that has a head office in what city?', 'question': 'The Oberoi family is part of a hotel company that has a head office in what city?', 'answer': 'Delhi', 'result': '\\nAnswer: Delhi', 'eval': 'CORRECT'}\n",
      "{'query': 'Musician and satirist Allie Goertz wrote a song about the \"The Simpsons\" character Milhouse, who Matt Groening named after who?', 'question': 'Musician and satirist Allie Goertz wrote a song about the \"The Simpsons\" character Milhouse, who Matt Groening named after who?', 'answer': 'President Richard Nixon', 'result': '\\nAnswer: President Richard Nixon', 'eval': 'CORRECT'}\n",
      "{'query': \" What nationality was James Henry Miller's wife?\", 'question': \" What nationality was James Henry Miller's wife?\", 'answer': 'American', 'result': '\\nJune Miller was not related to James Henry Miller.', 'eval': 'INCORRECT'}\n",
      "{'query': 'Cadmium Chloride is slightly soluble in this chemical, it is also called what?', 'question': 'Cadmium Chloride is slightly soluble in this chemical, it is also called what?', 'answer': 'alcohol', 'result': '\\nAnswer: Ethanol', 'eval': 'INCORRECT'}\n",
      "{'query': 'Which tennis player won more Grand Slam titles, Henri Leconte or Jonathan Stark?', 'question': 'Which tennis player won more Grand Slam titles, Henri Leconte or Jonathan Stark?', 'answer': 'Jonathan Stark', 'result': '\\nHenri Leconte won more Grand Slam titles than Jonathan Stark, with 22 singles titles to his name.', 'eval': 'INCORRECT'}\n",
      "{'query': \"Which genus of moth in the world's seventh-largest country contains only one species?\", 'question': \"Which genus of moth in the world's seventh-largest country contains only one species?\", 'answer': 'Crambidae', 'result': '\\nNepita.', 'eval': 'INCORRECT'}\n",
      "{'query': 'Who was once considered the best kick boxer in the world, however he has been involved in a number of controversies relating to his \"unsportsmanlike conducts\" in the sport and crimes of violence outside of the ring.', 'question': 'Who was once considered the best kick boxer in the world, however he has been involved in a number of controversies relating to his \"unsportsmanlike conducts\" in the sport and crimes of violence outside of the ring.', 'answer': 'Badr Hari', 'result': '\\nAnswer: Badr Hari', 'eval': 'CORRECT'}\n",
      "{'query': 'The Dutch-Belgian television series that \"House of Anubis\" was based on first aired in what year?', 'question': 'The Dutch-Belgian television series that \"House of Anubis\" was based on first aired in what year?', 'answer': '2006', 'result': '\\nThe Dutch-Belgian television series that \"House of Anubis\" was based on first aired in 2004.', 'eval': 'INCORRECT'}\n",
      "{'query': 'What is the length of the track where the 2013 Liqui Moly Bathurst 12 Hour was staged?', 'question': 'What is the length of the track where the 2013 Liqui Moly Bathurst 12 Hour was staged?', 'answer': '6.213 km long', 'result': '\\nThe track where the 2013 Liqui Moly Bathurst 12 Hour was staged is approximately 3.86 km (2.4 miles) long.', 'eval': 'INCORRECT'}\n",
      "{'query': 'Fast Cars, Danger, Fire and Knives includes guest appearances from which hip hop record executive?', 'question': 'Fast Cars, Danger, Fire and Knives includes guest appearances from which hip hop record executive?', 'answer': 'Jaime Meline', 'result': '\\nAnswer: Fast Cars, Danger, Fire and Knives includes guest appearances from Jhené Aiko, Schoolboy Q, Kendrick Lamar, Punch, Alori Joh, JaVonté, MURS, and BJ. No hip hop record executive is featured as a guest on the EP.', 'eval': 'INCORRECT'}\n",
      "{'query': \"Which magazine was started first Arthur's Magazine or First for Women?\", 'question': \"Which magazine was started first Arthur's Magazine or First for Women?\", 'answer': \"Arthur's Magazine\", 'result': \"\\nArthur's Magazine\", 'eval': 'CORRECT'}\n",
      "{'query': 'The Oberoi family is part of a hotel company that has a head office in what city?', 'question': 'The Oberoi family is part of a hotel company that has a head office in what city?', 'answer': 'Delhi', 'result': '\\nAnswer: Delhi', 'eval': 'CORRECT'}\n",
      "{'query': 'Musician and satirist Allie Goertz wrote a song about the \"The Simpsons\" character Milhouse, who Matt Groening named after who?', 'question': 'Musician and satirist Allie Goertz wrote a song about the \"The Simpsons\" character Milhouse, who Matt Groening named after who?', 'answer': 'President Richard Nixon', 'result': '\\nAnswer: President Richard Nixon', 'eval': 'CORRECT'}\n",
      "{'query': \" What nationality was James Henry Miller's wife?\", 'question': \" What nationality was James Henry Miller's wife?\", 'answer': 'American', 'result': '\\nIt is not possible to answer this question based on the given context.', 'eval': 'CORRECT'}\n",
      "{'query': 'Cadmium Chloride is slightly soluble in this chemical, it is also called what?', 'question': 'Cadmium Chloride is slightly soluble in this chemical, it is also called what?', 'answer': 'alcohol', 'result': '\\nAnswer: Alcohol', 'eval': 'CORRECT'}\n",
      "{'query': 'Which tennis player won more Grand Slam titles, Henri Leconte or Jonathan Stark?', 'question': 'Which tennis player won more Grand Slam titles, Henri Leconte or Jonathan Stark?', 'answer': 'Jonathan Stark', 'result': \"\\nHenri Leconte won more Grand Slam titles than Jonathan Stark. Leconte won the French Open men's doubles title in 1984 and reached the men's singles final at the French Open in 1988, while Stark won two Grand Slam doubles titles (the 1994 Nabisco Grand Prix and the 2012 Wimbledon).\", 'eval': 'INCORRECT'}\n",
      "{'query': \"Which genus of moth in the world's seventh-largest country contains only one species?\", 'question': \"Which genus of moth in the world's seventh-largest country contains only one species?\", 'answer': 'Crambidae', 'result': '\\nAnswer: Eumacaria', 'eval': 'INCORRECT'}\n",
      "{'query': 'Who was once considered the best kick boxer in the world, however he has been involved in a number of controversies relating to his \"unsportsmanlike conducts\" in the sport and crimes of violence outside of the ring.', 'question': 'Who was once considered the best kick boxer in the world, however he has been involved in a number of controversies relating to his \"unsportsmanlike conducts\" in the sport and crimes of violence outside of the ring.', 'answer': 'Badr Hari', 'result': '\\nThe answer to the question is not given in the context provided.', 'eval': 'INCORRECT'}\n",
      "{'query': 'The Dutch-Belgian television series that \"House of Anubis\" was based on first aired in what year?', 'question': 'The Dutch-Belgian television series that \"House of Anubis\" was based on first aired in what year?', 'answer': '2006', 'result': '\\nAnswer: The Dutch-Belgian television series that \"House of Anubis\" was based on first aired in 2009.', 'eval': 'INCORRECT'}\n",
      "{'query': 'What is the length of the track where the 2013 Liqui Moly Bathurst 12 Hour was staged?', 'question': 'What is the length of the track where the 2013 Liqui Moly Bathurst 12 Hour was staged?', 'answer': '6.213 km long', 'result': '\\nThe length of the track where the 2013 Liqui Moly Bathurst 12 Hour was staged is not provided in the context.', 'eval': 'CORRECT'}\n",
      "{'query': 'Fast Cars, Danger, Fire and Knives includes guest appearances from which hip hop record executive?', 'question': 'Fast Cars, Danger, Fire and Knives includes guest appearances from which hip hop record executive?', 'answer': 'Jaime Meline', 'result': '\\nAnswer: Camu Tao and Metro of S.A. Smash and Definitive J', 'eval': 'INCORRECT'}\n",
      "{'query': \"Which magazine was started first Arthur's Magazine or First for Women?\", 'question': \"Which magazine was started first Arthur's Magazine or First for Women?\", 'answer': \"Arthur's Magazine\", 'result': \"\\nArthur's Magazine.\", 'eval': 'CORRECT'}\n",
      "{'query': 'The Oberoi family is part of a hotel company that has a head office in what city?', 'question': 'The Oberoi family is part of a hotel company that has a head office in what city?', 'answer': 'Delhi', 'result': '\\nAnswer: Delhi', 'eval': 'CORRECT'}\n",
      "{'query': 'Musician and satirist Allie Goertz wrote a song about the \"The Simpsons\" character Milhouse, who Matt Groening named after who?', 'question': 'Musician and satirist Allie Goertz wrote a song about the \"The Simpsons\" character Milhouse, who Matt Groening named after who?', 'answer': 'President Richard Nixon', 'result': '\\nAnswer: President Richard Nixon', 'eval': 'CORRECT'}\n",
      "{'query': \" What nationality was James Henry Miller's wife?\", 'question': \" What nationality was James Henry Miller's wife?\", 'answer': 'American', 'result': \"\\nThe nationality of James Henry Miller's wife is not specified in the given context.\", 'eval': 'CORRECT'}\n",
      "{'query': 'Cadmium Chloride is slightly soluble in this chemical, it is also called what?', 'question': 'Cadmium Chloride is slightly soluble in this chemical, it is also called what?', 'answer': 'alcohol', 'result': '\\nAnswer: Alcohol', 'eval': 'CORRECT'}\n",
      "{'query': 'Which tennis player won more Grand Slam titles, Henri Leconte or Jonathan Stark?', 'question': 'Which tennis player won more Grand Slam titles, Henri Leconte or Jonathan Stark?', 'answer': 'Jonathan Stark', 'result': '\\nAnswer: Jonathan Stark won more Grand Slam titles than Henri Leconte.', 'eval': 'CORRECT'}\n",
      "{'query': \"Which genus of moth in the world's seventh-largest country contains only one species?\", 'question': \"Which genus of moth in the world's seventh-largest country contains only one species?\", 'answer': 'Crambidae', 'result': '\\nAnswer: Eumacaria', 'eval': 'INCORRECT'}\n",
      "{'query': 'Who was once considered the best kick boxer in the world, however he has been involved in a number of controversies relating to his \"unsportsmanlike conducts\" in the sport and crimes of violence outside of the ring.', 'question': 'Who was once considered the best kick boxer in the world, however he has been involved in a number of controversies relating to his \"unsportsmanlike conducts\" in the sport and crimes of violence outside of the ring.', 'answer': 'Badr Hari', 'result': '\\nThe answer to the question is not provided in the given context.', 'eval': 'INCORRECT'}\n",
      "{'query': 'The Dutch-Belgian television series that \"House of Anubis\" was based on first aired in what year?', 'question': 'The Dutch-Belgian television series that \"House of Anubis\" was based on first aired in what year?', 'answer': '2006', 'result': '\\nAnswer: 2009', 'eval': 'INCORRECT'}\n",
      "{'query': 'What is the length of the track where the 2013 Liqui Moly Bathurst 12 Hour was staged?', 'question': 'What is the length of the track where the 2013 Liqui Moly Bathurst 12 Hour was staged?', 'answer': '6.213 km long', 'result': '\\nThe length of the track where the 2013 Liqui Moly Bathurst 12 Hour was staged is not specified in the given context.', 'eval': 'CORRECT'}\n",
      "{'query': 'Fast Cars, Danger, Fire and Knives includes guest appearances from which hip hop record executive?', 'question': 'Fast Cars, Danger, Fire and Knives includes guest appearances from which hip hop record executive?', 'answer': 'Jaime Meline', 'result': '\\nAnswer: Camu Tao and Metro of S.A. Smash and Definitive J.', 'eval': 'INCORRECT'}\n",
      "{'query': \"Which magazine was started first Arthur's Magazine or First for Women?\", 'question': \"Which magazine was started first Arthur's Magazine or First for Women?\", 'answer': \"Arthur's Magazine\", 'result': \"\\nArthur's Magazine was started first in 1844. First for Women was started in 1989.\", 'eval': 'CORRECT'}\n",
      "{'query': 'The Oberoi family is part of a hotel company that has a head office in what city?', 'question': 'The Oberoi family is part of a hotel company that has a head office in what city?', 'answer': 'Delhi', 'result': '\\nThe Oberoi family is part of a hotel company with its head office in Delhi.', 'eval': 'CORRECT'}\n",
      "{'query': 'Musician and satirist Allie Goertz wrote a song about the \"The Simpsons\" character Milhouse, who Matt Groening named after who?', 'question': 'Musician and satirist Allie Goertz wrote a song about the \"The Simpsons\" character Milhouse, who Matt Groening named after who?', 'answer': 'President Richard Nixon', 'result': \"\\nMatt Groening named the character Milhouse after President Richard Nixon's middle name.\", 'eval': 'CORRECT'}\n",
      "{'query': \" What nationality was James Henry Miller's wife?\", 'question': \" What nationality was James Henry Miller's wife?\", 'answer': 'American', 'result': \"\\nJames Henry Miller's wife is not mentioned in the context, so it is not possible to answer the question.\", 'eval': 'CORRECT'}\n",
      "{'query': 'Cadmium Chloride is slightly soluble in this chemical, it is also called what?', 'question': 'Cadmium Chloride is slightly soluble in this chemical, it is also called what?', 'answer': 'alcohol', 'result': '\\nMethyl Alcohol (or Methanol).', 'eval': 'CORRECT'}\n",
      "{'query': 'Which tennis player won more Grand Slam titles, Henri Leconte or Jonathan Stark?', 'question': 'Which tennis player won more Grand Slam titles, Henri Leconte or Jonathan Stark?', 'answer': 'Jonathan Stark', 'result': '\\nHenri Leconte won more Grand Slam titles than Jonathan Stark. Leconte won the 1991 Davis Cup, while Stark won two Grand Slam doubles titles and the 1995 Wimbledon Championships Mixed Doubles. In comparison, Steffi Graf won 22 Grand Slam singles titles.', 'eval': 'INCORRECT'}\n",
      "{'query': \"Which genus of moth in the world's seventh-largest country contains only one species?\", 'question': \"Which genus of moth in the world's seventh-largest country contains only one species?\", 'answer': 'Crambidae', 'result': '\\nParectropis', 'eval': 'INCORRECT'}\n",
      "{'query': 'Who was once considered the best kick boxer in the world, however he has been involved in a number of controversies relating to his \"unsportsmanlike conducts\" in the sport and crimes of violence outside of the ring.', 'question': 'Who was once considered the best kick boxer in the world, however he has been involved in a number of controversies relating to his \"unsportsmanlike conducts\" in the sport and crimes of violence outside of the ring.', 'answer': 'Badr Hari', 'result': '\\nHari was once considered the best kick boxer in the world, however he has been involved in a number of controversies relating to his \"unsportsmanlike conducts\" in the sport and crimes of violence outside of the ring.', 'eval': 'CORRECT'}\n",
      "{'query': 'The Dutch-Belgian television series that \"House of Anubis\" was based on first aired in what year?', 'question': 'The Dutch-Belgian television series that \"House of Anubis\" was based on first aired in what year?', 'answer': '2006', 'result': '\\nThe Dutch-Belgian television series that \"House of Anubis\" was based on first aired in 2006.', 'eval': 'CORRECT'}\n",
      "{'query': 'What is the length of the track where the 2013 Liqui Moly Bathurst 12 Hour was staged?', 'question': 'What is the length of the track where the 2013 Liqui Moly Bathurst 12 Hour was staged?', 'answer': '6.213 km long', 'result': '\\nThe track where the 2013 Liqui Moly Bathurst 12 Hour was staged is the Mount Panorama Circuit, near Bathurst, in New South Wales, Australia. The length of this track is 6.213 km (3.863 mi).', 'eval': 'CORRECT'}\n",
      "{'query': 'Fast Cars, Danger, Fire and Knives includes guest appearances from which hip hop record executive?', 'question': 'Fast Cars, Danger, Fire and Knives includes guest appearances from which hip hop record executive?', 'answer': 'Jaime Meline', 'result': \"\\nDel the Funky Homosapien, King T, B-Real from Cypress Hill, Knoc-turn'al, and Khujo from Goodie Mob are the hip hop record executives included as guest appearances on Fast Cars, Danger, Fire and Knives.\", 'eval': 'INCORRECT'}\n",
      "{'query': \"Which magazine was started first Arthur's Magazine or First for Women?\", 'question': \"Which magazine was started first Arthur's Magazine or First for Women?\", 'answer': \"Arthur's Magazine\", 'result': \"\\nArthur's Magazine was started first.\", 'eval': 'CORRECT'}\n",
      "{'query': 'The Oberoi family is part of a hotel company that has a head office in what city?', 'question': 'The Oberoi family is part of a hotel company that has a head office in what city?', 'answer': 'Delhi', 'result': '\\nThe Oberoi family is part of a hotel company that has a head office in Delhi.', 'eval': 'CORRECT'}\n",
      "{'query': 'Musician and satirist Allie Goertz wrote a song about the \"The Simpsons\" character Milhouse, who Matt Groening named after who?', 'question': 'Musician and satirist Allie Goertz wrote a song about the \"The Simpsons\" character Milhouse, who Matt Groening named after who?', 'answer': 'President Richard Nixon', 'result': '\\nAnswer: President Richard Nixon', 'eval': 'CORRECT'}\n",
      "{'query': \" What nationality was James Henry Miller's wife?\", 'question': \" What nationality was James Henry Miller's wife?\", 'answer': 'American', 'result': \"\\nAnswer: June Miller was not James Henry Miller's wife, so there is no answer to this question.\", 'eval': 'INCORRECT'}\n",
      "{'query': 'Cadmium Chloride is slightly soluble in this chemical, it is also called what?', 'question': 'Cadmium Chloride is slightly soluble in this chemical, it is also called what?', 'answer': 'alcohol', 'result': '\\nAnswer: Alcohol', 'eval': 'CORRECT'}\n",
      "{'query': 'Which tennis player won more Grand Slam titles, Henri Leconte or Jonathan Stark?', 'question': 'Which tennis player won more Grand Slam titles, Henri Leconte or Jonathan Stark?', 'answer': 'Jonathan Stark', 'result': '\\nHenri Leconte won one Grand Slam title (the singles title at the 1986 Nabisco Grand Prix), while Jonathan Stark won two Grand Slam doubles titles. Therefore, Jonathan Stark won more Grand Slam titles than Henri Leconte.', 'eval': 'CORRECT'}\n",
      "{'query': \"Which genus of moth in the world's seventh-largest country contains only one species?\", 'question': \"Which genus of moth in the world's seventh-largest country contains only one species?\", 'answer': 'Crambidae', 'result': '\\nAnswer: Nymphuliella daeckealis, the China Mark Moth.', 'eval': 'INCORRECT'}\n",
      "{'query': 'Who was once considered the best kick boxer in the world, however he has been involved in a number of controversies relating to his \"unsportsmanlike conducts\" in the sport and crimes of violence outside of the ring.', 'question': 'Who was once considered the best kick boxer in the world, however he has been involved in a number of controversies relating to his \"unsportsmanlike conducts\" in the sport and crimes of violence outside of the ring.', 'answer': 'Badr Hari', 'result': '\\nAnswer: Hari was once considered the best kick boxer in the world, however he has been involved in a number of controversies relating to his \"unsportsmanlike conducts\" in the sport and crimes of violence outside of the ring.', 'eval': 'CORRECT'}\n",
      "{'query': 'The Dutch-Belgian television series that \"House of Anubis\" was based on first aired in what year?', 'question': 'The Dutch-Belgian television series that \"House of Anubis\" was based on first aired in what year?', 'answer': '2006', 'result': '\\nThe Dutch-Belgian television series that \"House of Anubis\" was based on first aired in 2004.', 'eval': 'INCORRECT'}\n",
      "{'query': 'What is the length of the track where the 2013 Liqui Moly Bathurst 12 Hour was staged?', 'question': 'What is the length of the track where the 2013 Liqui Moly Bathurst 12 Hour was staged?', 'answer': '6.213 km long', 'result': '\\nThe length of the Mount Panorama Circuit, where the 2013 Liqui Moly Bathurst 12 Hour was staged, is 6.213 km (3.862 mi).', 'eval': 'CORRECT'}\n",
      "{'query': 'Fast Cars, Danger, Fire and Knives includes guest appearances from which hip hop record executive?', 'question': 'Fast Cars, Danger, Fire and Knives includes guest appearances from which hip hop record executive?', 'answer': 'Jaime Meline', 'result': '\\nAnswer: Fast Cars, Danger, Fire and Knives includes guest appearances from Camu Tao and Metro of S.A. Smash and Definitive J.', 'eval': 'INCORRECT'}\n",
      "{'query': \"Which magazine was started first Arthur's Magazine or First for Women?\", 'question': \"Which magazine was started first Arthur's Magazine or First for Women?\", 'answer': \"Arthur's Magazine\", 'result': \"\\nArthur's Magazine (1844–1846) was started first.\", 'eval': 'CORRECT'}\n",
      "{'query': 'The Oberoi family is part of a hotel company that has a head office in what city?', 'question': 'The Oberoi family is part of a hotel company that has a head office in what city?', 'answer': 'Delhi', 'result': '\\nAnswer: Delhi', 'eval': 'CORRECT'}\n",
      "{'query': 'Musician and satirist Allie Goertz wrote a song about the \"The Simpsons\" character Milhouse, who Matt Groening named after who?', 'question': 'Musician and satirist Allie Goertz wrote a song about the \"The Simpsons\" character Milhouse, who Matt Groening named after who?', 'answer': 'President Richard Nixon', 'result': '\\nAnswer: President Richard Nixon', 'eval': 'CORRECT'}\n",
      "{'query': \" What nationality was James Henry Miller's wife?\", 'question': \" What nationality was James Henry Miller's wife?\", 'answer': 'American', 'result': '\\nThere is not enough information provided to answer this question.', 'eval': 'CORRECT'}\n",
      "{'query': 'Cadmium Chloride is slightly soluble in this chemical, it is also called what?', 'question': 'Cadmium Chloride is slightly soluble in this chemical, it is also called what?', 'answer': 'alcohol', 'result': '\\nAnswer: Alcohol', 'eval': 'CORRECT'}\n",
      "{'query': 'Which tennis player won more Grand Slam titles, Henri Leconte or Jonathan Stark?', 'question': 'Which tennis player won more Grand Slam titles, Henri Leconte or Jonathan Stark?', 'answer': 'Jonathan Stark', 'result': '\\nHenri Leconte won more Grand Slam titles than Jonathan Stark.', 'eval': 'INCORRECT'}\n",
      "{'query': \"Which genus of moth in the world's seventh-largest country contains only one species?\", 'question': \"Which genus of moth in the world's seventh-largest country contains only one species?\", 'answer': 'Crambidae', 'result': \"\\nThe genus of moth that contains only one species in the world's seventh-largest country is Nymphuliella daeckealis, the China Mark Moth.\", 'eval': 'INCORRECT'}\n",
      "{'query': 'Who was once considered the best kick boxer in the world, however he has been involved in a number of controversies relating to his \"unsportsmanlike conducts\" in the sport and crimes of violence outside of the ring.', 'question': 'Who was once considered the best kick boxer in the world, however he has been involved in a number of controversies relating to his \"unsportsmanlike conducts\" in the sport and crimes of violence outside of the ring.', 'answer': 'Badr Hari', 'result': '\\nAnswer: Hari was once considered the best kickboxer in the world, however he has been involved in a number of controversies relating to his \"unsportsmanlike conducts\" in the sport and crimes of violence outside of the ring.', 'eval': 'CORRECT'}\n",
      "{'query': 'The Dutch-Belgian television series that \"House of Anubis\" was based on first aired in what year?', 'question': 'The Dutch-Belgian television series that \"House of Anubis\" was based on first aired in what year?', 'answer': '2006', 'result': '\\nThe Dutch-Belgian television series that \"House of Anubis\" was based on first aired in 2006.', 'eval': 'CORRECT'}\n",
      "{'query': 'What is the length of the track where the 2013 Liqui Moly Bathurst 12 Hour was staged?', 'question': 'What is the length of the track where the 2013 Liqui Moly Bathurst 12 Hour was staged?', 'answer': '6.213 km long', 'result': '\\nThe Mount Panorama Circuit is 6.213 kilometers (3.86 miles) long.', 'eval': 'CORRECT'}\n",
      "{'query': 'Fast Cars, Danger, Fire and Knives includes guest appearances from which hip hop record executive?', 'question': 'Fast Cars, Danger, Fire and Knives includes guest appearances from which hip hop record executive?', 'answer': 'Jaime Meline', 'result': '\\nAnswer: Fast Cars, Danger, Fire and Knives includes guest appearances from Camu Tao and Metro of S.A. Smash and Definitive Jux.', 'eval': 'INCORRECT'}\n"
     ]
    }
   ],
   "source": [
    "performance = dict()\n",
    "\n",
    "for text_splitter, retriever_setting in product(text_splitters, retriever_settings):\n",
    "    output = []\n",
    "    num_correct = 0\n",
    "    qa_chain = get_rag_chain(data[\"context\"], text_splitter[\"model\"], retriever_setting)\n",
    "    \n",
    "    for entry in data[\"data\"]:\n",
    "        entry  = qa_chain.invoke(entry)\n",
    "        result = eval_chain.invoke(entry)\n",
    "        num_correct += 0 if result == \"INCORRECT\" else 1\n",
    "        entry[\"eval\"] = result\n",
    "        output.append(entry)\n",
    "        print(entry)\n",
    "        \n",
    "    performance[(text_splitter[\"name\"], repr(retriever_setting))] = (num_correct, output)"
   ]
  },
  {
   "cell_type": "markdown",
   "id": "d59acb91-78f5-48cc-994a-cf5a1f6732c8",
   "metadata": {},
   "source": [
    "The Spacy tokenizer is clearly better. It remains to see if the following will improve accuracy:\n",
    " * expanding context beyond a single sentence\n",
    " * increasing the context window to include more sentences, chuck overlap, etc.\n",
    " * adjusting relevancy with the similarity threshold and using more context"
   ]
  },
  {
   "cell_type": "code",
   "execution_count": 11,
   "id": "cfd90b53-14f7-4773-8e01-cf26285d5510",
   "metadata": {},
   "outputs": [
    {
     "name": "stdout",
     "output_type": "stream",
     "text": [
      "#Correct: 8  Text Splitter: SpacyTextSplitter / Retrieval Setting: {'search_type': 'mmr', 'search_kwargs': {'k': 4}}\n",
      "#Correct: 8  Text Splitter: SpacyTextSplitter / Retrieval Setting: {'search_type': 'similarity', 'search_kwargs': {'k': 4}}\n",
      "#Correct: 7  Text Splitter: TokenTextSplitter/100/0 / Retrieval Setting: {'search_type': 'similarity', 'search_kwargs': {'k': 4}}\n",
      "#Correct: 7  Text Splitter: SpacyTextSplitter / Retrieval Setting: {'search_type': 'similarity_score_threshold', 'search_kwargs': {'score_threshold': 0.7, 'k': 4}}\n",
      "#Correct: 6  Text Splitter: CharacterTextSplitter/100/0 / Retrieval Setting: {'search_type': 'similarity_score_threshold', 'search_kwargs': {'score_threshold': 0.7, 'k': 4}}\n",
      "#Correct: 6  Text Splitter: TokenTextSplitter/100/0 / Retrieval Setting: {'search_type': 'similarity_score_threshold', 'search_kwargs': {'score_threshold': 0.7, 'k': 4}}\n",
      "#Correct: 5  Text Splitter: CharacterTextSplitter/100/0 / Retrieval Setting: {'search_type': 'similarity', 'search_kwargs': {'k': 4}}\n",
      "#Correct: 4  Text Splitter: CharacterTextSplitter/100/0 / Retrieval Setting: {'search_type': 'mmr', 'search_kwargs': {'k': 4}}\n",
      "#Correct: 4  Text Splitter: TokenTextSplitter/100/0 / Retrieval Setting: {'search_type': 'mmr', 'search_kwargs': {'k': 4}}\n"
     ]
    }
   ],
   "source": [
    "for model_info, num_correct in sorted([(k, v[0]) for k, v in performance.items()], key=lambda u: u[1], reverse=True):\n",
    "    print(f\"#Correct: {num_correct}  Text Splitter: {model_info[0]} / Retrieval Setting: {model_info[1]}\")"
   ]
  },
  {
   "cell_type": "code",
   "execution_count": null,
   "id": "d783056a-1b34-4ce9-9727-04104e00f078",
   "metadata": {},
   "outputs": [],
   "source": []
  }
 ],
 "metadata": {
  "kernelspec": {
   "display_name": "Python 3 (ipykernel)",
   "language": "python",
   "name": "python3"
  },
  "language_info": {
   "codemirror_mode": {
    "name": "ipython",
    "version": 3
   },
   "file_extension": ".py",
   "mimetype": "text/x-python",
   "name": "python",
   "nbconvert_exporter": "python",
   "pygments_lexer": "ipython3",
   "version": "3.11.5"
  }
 },
 "nbformat": 4,
 "nbformat_minor": 5
}
